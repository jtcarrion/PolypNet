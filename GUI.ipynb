{
  "nbformat": 4,
  "nbformat_minor": 0,
  "metadata": {
    "colab": {
      "provenance": [],
      "authorship_tag": "ABX9TyNXZQkVQDYMAJeW2N2zCrlI",
      "include_colab_link": true
    },
    "kernelspec": {
      "name": "python3",
      "display_name": "Python 3"
    },
    "language_info": {
      "name": "python"
    }
  },
  "cells": [
    {
      "cell_type": "markdown",
      "metadata": {
        "id": "view-in-github",
        "colab_type": "text"
      },
      "source": [
        "<a href=\"https://colab.research.google.com/github/jtcarrion/PolypNet/blob/main/GUI.ipynb\" target=\"_parent\"><img src=\"https://colab.research.google.com/assets/colab-badge.svg\" alt=\"Open In Colab\"/></a>"
      ]
    },
    {
      "cell_type": "code",
      "execution_count": null,
      "metadata": {
        "id": "QhkiIQ0F8A-u"
      },
      "outputs": [],
      "source": [
        "import tkinter as tk\n",
        "from tkinter import *\n",
        "from tkinter.filedialog import askopenfilename, asksaveasfilename\n",
        "from PIL import Image, ImageTk\n",
        "import matplotlib.pyplot as plt\n",
        "import matplotlib.image as mpimg\n",
        "\n",
        "my_w = tk.Tk()\n",
        "\n",
        "my_w.geometry(\"800x500\")  # Size of the window \n",
        "my_w.title('Final Project')\n",
        "my_font1=('times', 18, 'bold')\n",
        "\n",
        "l1 = tk.Label(my_w,text='Upload Colonoscopy Image',width=30,font=my_font1)  \n",
        "l1.grid(row=1,column=1)\n",
        "l2 = tk.Label(my_w, text=\"Process Image\", width=30, font=my_font1)\n",
        "l2.grid(row=1,column=2)\n",
        "l3 = tk.Label(my_w, text=\"Save Image\", width=30, font=my_font1)\n",
        "l3.grid(row=1,column=3)\n",
        "\n",
        "b1 = tk.Button(my_w, text='Upload File', \n",
        "   width=20,command = lambda:upload_file())\n",
        "b1.grid(row=2,column=1) \n",
        "b2 = tk.Button(my_w, text=\"Process Image\",width=20)\n",
        "b2.grid(row=2,column=2)\n",
        "b3 = tk.Button(my_w, text=\"Save Image\",width=20)\n",
        "b3.grid(row=2,column=3)\n",
        "\n",
        "def upload_file():\n",
        "    global img\n",
        "    f_types = [('Jpg Files', '*.jpg')]\n",
        "    filename = askopenfilename(filetypes=f_types)\n",
        "    img=Image.open(filename)\n",
        "    img_resized=img.resize((500,400))\n",
        "    img = ImageTk.PhotoImage(img_resized)\n",
        "    b4 =tk.Button(my_w,image=img) \n",
        "    b4.grid(row=3,column=1)\n",
        "\n",
        "def process_image():\n",
        "    return()\n",
        "\n",
        "def save_output():\n",
        "    filepath = asksaveasfilename\n",
        "\n",
        "my_w.mainloop()"
      ]
    }
  ]
}